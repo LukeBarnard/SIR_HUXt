{
 "cells": [
  {
   "cell_type": "code",
   "execution_count": 1,
   "metadata": {},
   "outputs": [],
   "source": [
    "from astropy.time import Time, TimeDelta\n",
    "import astropy.units as u\n",
    "import glob\n",
    "import h5py\n",
    "import matplotlib as mpl\n",
    "import matplotlib.pyplot as plt\n",
    "import numpy as np\n",
    "import os\n",
    "import pandas as pd\n",
    "import sunpy.coordinates.sun as sn\n",
    "import scipy.ndimage as ndi\n",
    "import scipy.stats as st\n",
    "# Our own library for using spice with STEREO (https://github.com/LukeBarnard/stereo_spice)\n",
    "from stereo_spice.coordinates import StereoSpice\n",
    "# Local packages\n",
    "import HUXt as H\n",
    "\n",
    "spice = StereoSpice()\n"
   ]
  },
  {
   "cell_type": "code",
   "execution_count": 4,
   "metadata": {},
   "outputs": [
    {
     "name": "stdout",
     "output_type": "stream",
     "text": [
      "Files already exist for CR2089\n"
     ]
    },
    {
     "name": "stderr",
     "output_type": "stream",
     "text": [
      "t:   0%|                                                                             | 0/168 [00:00<?, ?it/s, now=None]"
     ]
    },
    {
     "name": "stdout",
     "output_type": "stream",
     "text": [
      "Moviepy - Building video C:\\Users\\yq904481\\research\\repos\\SIR_HUXt\\figures\\HUXt_figures\\HUXt_CR2089_uniform_movie.mp4.\n",
      "Moviepy - Writing video C:\\Users\\yq904481\\research\\repos\\SIR_HUXt\\figures\\HUXt_figures\\HUXt_CR2089_uniform_movie.mp4\n",
      "\n"
     ]
    },
    {
     "name": "stderr",
     "output_type": "stream",
     "text": [
      "                                                                                                                       \r"
     ]
    },
    {
     "name": "stdout",
     "output_type": "stream",
     "text": [
      "Moviepy - Done !\n",
      "Moviepy - video ready C:\\Users\\yq904481\\research\\repos\\SIR_HUXt\\figures\\HUXt_figures\\HUXt_CR2089_uniform_movie.mp4\n",
      "Files already exist for CR2089\n"
     ]
    },
    {
     "name": "stderr",
     "output_type": "stream",
     "text": [
      "t:   0%|                                                                             | 0/168 [00:00<?, ?it/s, now=None]"
     ]
    },
    {
     "name": "stdout",
     "output_type": "stream",
     "text": [
      "Moviepy - Building video C:\\Users\\yq904481\\research\\repos\\SIR_HUXt\\figures\\HUXt_figures\\HUXt_CR2089_structured_movie.mp4.\n",
      "Moviepy - Writing video C:\\Users\\yq904481\\research\\repos\\SIR_HUXt\\figures\\HUXt_figures\\HUXt_CR2089_structured_movie.mp4\n",
      "\n"
     ]
    },
    {
     "name": "stderr",
     "output_type": "stream",
     "text": [
      "                                                                                                                       \r"
     ]
    },
    {
     "name": "stdout",
     "output_type": "stream",
     "text": [
      "Moviepy - Done !\n",
      "Moviepy - video ready C:\\Users\\yq904481\\research\\repos\\SIR_HUXt\\figures\\HUXt_figures\\HUXt_CR2089_structured_movie.mp4\n"
     ]
    }
   ],
   "source": [
    "def setup_huxt(start_time, wind='uniform'):\n",
    "    \"\"\"\n",
    "    Initialise HUXt with some predetermined boundary/initial conditions\n",
    "    start_time should be astropy.Time object.\n",
    "    wind should be uniform or structured\n",
    "    \"\"\"\n",
    "    cr_num = np.fix(sn.carrington_rotation_number(start_time))\n",
    "    ert = H.Observer('EARTH', start_time)\n",
    "\n",
    "    # Set up HUXt for a 5 day simulation with homogenous inner boundary.\n",
    "    vr_in, br_in = H.Hin.get_MAS_long_profile(cr_num, ert.lat.to(u.deg))\n",
    "    if wind == 'uniform':\n",
    "        vr_in = np.zeros(vr_in.shape) + 400*vr_in.unit\n",
    "        \n",
    "    model = H.HUXt(v_boundary=vr_in, cr_num=cr_num, cr_lon_init=ert.lon_c, latitude=ert.lat.to(u.deg),\n",
    "                   br_boundary=br_in, lon_start=270*u.deg, lon_stop=90*u.deg, simtime=3.5*u.day, dt_scale=4)\n",
    "    \n",
    "    return model"
   ]
  }
 ],
 "metadata": {
  "kernelspec": {
   "display_name": "Python 3",
   "language": "python",
   "name": "python3"
  },
  "language_info": {
   "codemirror_mode": {
    "name": "ipython",
    "version": 3
   },
   "file_extension": ".py",
   "mimetype": "text/x-python",
   "name": "python",
   "nbconvert_exporter": "python",
   "pygments_lexer": "ipython3",
   "version": "3.7.3"
  }
 },
 "nbformat": 4,
 "nbformat_minor": 4
}
