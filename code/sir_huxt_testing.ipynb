{
 "cells": [
  {
   "cell_type": "code",
   "execution_count": 4,
   "id": "cf6b0f40-1e66-4a87-a6b6-7c9f8285d750",
   "metadata": {},
   "outputs": [],
   "source": [
    "import huxt as H\n",
    "import huxt_analysis as HA\n",
    "import SIR_HUXt as sir\n",
    "\n",
    "import astropy.units as u\n",
    "import glob\n",
    "import h5py\n",
    "import matplotlib.pyplot as plt\n",
    "import matplotlib as mpl\n",
    "import numpy as np\n",
    "import scipy.stats as st\n",
    "\n",
    "from sklearn.neighbors import KernelDensity\n",
    "from astropy.time import Time"
   ]
  },
  {
   "cell_type": "code",
   "execution_count": 5,
   "id": "041755e5-5f9c-45e3-8333-7869bb314a94",
   "metadata": {},
   "outputs": [],
   "source": [
    "import os\n",
    "import glob"
   ]
  },
  {
   "cell_type": "code",
   "execution_count": 6,
   "id": "8c19b5ba-8b14-46f3-aba2-d9ba30c97084",
   "metadata": {},
   "outputs": [
    {
     "name": "stdout",
     "output_type": "stream",
     "text": [
      "C:\\Users\\yq904481\\research\\repos\\SIR_HUXt\n",
      "{'boundary_conditions': 'C:\\\\Users\\\\yq904481\\\\research\\\\repos\\\\SIR_HUXt\\\\data\\\\boundary_conditions', 'ephemeris': 'C:\\\\Users\\\\yq904481\\\\research\\\\repos\\\\SIR_HUXt\\\\data\\\\ephemeris\\\\ephemeris.hdf5', 'HUXt_data': 'C:\\\\Users\\\\yq904481\\\\research\\\\repos\\\\SIR_HUXt\\\\data\\\\HUXt', 'sir_data': 'C:\\\\Users\\\\yq904481\\\\research\\\\repos\\\\SIR_HUXt\\\\data\\\\sir_analysis', 'HUXt_figures': 'C:\\\\Users\\\\yq904481\\\\research\\\\repos\\\\SIR_HUXt\\\\figures'}\n"
     ]
    }
   ],
   "source": [
    "cwd = os.getcwd()\n",
    "root = cwd.split('SIR_HUXt')[0]\n",
    "root = os.path.join(root,'SIR_HUXt')\n",
    "\n",
    "print(root)\n",
    "\n",
    "# Find the config.dat file path\n",
    "files = glob.glob('config.dat')\n",
    "\n",
    "with open(files[0], 'r') as file:\n",
    "    lines = file.read().splitlines()\n",
    "    dirs = {line.split(',')[0]: os.path.join(root, line.split(',')[1]) for line in lines[1:]}\n",
    "    \n",
    "print(dirs)\n"
   ]
  },
  {
   "cell_type": "code",
   "execution_count": 20,
   "id": "99d60a94-c6b2-4f6a-9e8e-65cf332f1198",
   "metadata": {},
   "outputs": [],
   "source": [
    "cwd = os.getcwd()\n",
    "root = cwd.split('SIR_HUXt')[0]\n",
    "root = os.path.join(root,'SIR_HUXt')\n",
    "\n",
    "paths = {'boundary_conditions':['data','boundary_conditions'],\n",
    "'ephemeris':['data','ephemeris', 'ephemeris.hdf5'],\n",
    "'HUXt_data':['data','HUXt'],\n",
    "'sir_data':['data','sir_analysis'],\n",
    "'HUXt_figures':['figures']}\n",
    "\n",
    "paths = {k:os.path.join(root, *v) for k,v in paths.items()}"
   ]
  },
  {
   "cell_type": "code",
   "execution_count": 21,
   "id": "1386ed8e-74e4-4da8-bb4f-f95edbd9f9ba",
   "metadata": {},
   "outputs": [
    {
     "data": {
      "text/plain": [
       "{'boundary_conditions': 'C:\\\\Users\\\\yq904481\\\\research\\\\repos\\\\SIR_HUXt\\\\data\\\\boundary_conditions',\n",
       " 'ephemeris': 'C:\\\\Users\\\\yq904481\\\\research\\\\repos\\\\SIR_HUXt\\\\data\\\\ephemeris\\\\ephemeris.hdf5',\n",
       " 'HUXt_data': 'C:\\\\Users\\\\yq904481\\\\research\\\\repos\\\\SIR_HUXt\\\\data\\\\HUXt',\n",
       " 'sir_data': 'C:\\\\Users\\\\yq904481\\\\research\\\\repos\\\\SIR_HUXt\\\\data\\\\sir_analysis',\n",
       " 'HUXt_figures': 'C:\\\\Users\\\\yq904481\\\\research\\\\repos\\\\SIR_HUXt\\\\figures'}"
      ]
     },
     "execution_count": 21,
     "metadata": {},
     "output_type": "execute_result"
    }
   ],
   "source": [
    "paths"
   ]
  },
  {
   "cell_type": "code",
   "execution_count": 19,
   "id": "eff2ab7d-e5a4-46e5-8d19-71fe0d8ae276",
   "metadata": {},
   "outputs": [
    {
     "ename": "SyntaxError",
     "evalue": "can't use starred expression here (313862167.py, line 4)",
     "output_type": "error",
     "traceback": [
      "\u001b[1;36m  File \u001b[1;32m\"C:\\Users\\yq904481\\AppData\\Local\\Temp\\ipykernel_6456\\313862167.py\"\u001b[1;36m, line \u001b[1;32m4\u001b[0m\n\u001b[1;31mSyntaxError\u001b[0m\u001b[1;31m:\u001b[0m can't use starred expression here\n"
     ]
    }
   ],
   "source": []
  },
  {
   "cell_type": "code",
   "execution_count": 12,
   "id": "e099eec2-fd7d-4a2a-a7f7-896906fcbe8e",
   "metadata": {},
   "outputs": [
    {
     "data": {
      "text/plain": [
       "['data', 'boundary_conditions']"
      ]
     },
     "execution_count": 12,
     "metadata": {},
     "output_type": "execute_result"
    }
   ],
   "source": [
    "lines[1].split(',')[1].split('\\\\')"
   ]
  },
  {
   "cell_type": "code",
   "execution_count": 31,
   "id": "85d77f32-992a-4741-89e2-9851d8b8ea7a",
   "metadata": {},
   "outputs": [
    {
     "data": {
      "text/plain": [
       "(25.0, 40.0)"
      ]
     },
     "execution_count": 31,
     "metadata": {},
     "output_type": "execute_result"
    },
    {
     "data": {
      "image/png": "[encoded data removed]",
      "text/plain": [
       "<Figure size 432x288 with 1 Axes>"
      ]
     },
     "metadata": {
      "needs_background": "light"
     },
     "output_type": "display_data"
    }
   ],
   "source": [
    "v_true = 1025\n",
    "wid_true = 30\n",
    "\n",
    "v = 1000 + np.random.uniform(-1,1,20)*50\n",
    "wid = 33 + np.random.uniform(-1,1,20)*5\n",
    "\n",
    "v_weight = st.norm.pdf(v-v_true, loc=0, scale=25)\n",
    "wid_weight = st.norm.pdf(wid-wid_true, loc=0, scale=2.5)\n",
    "weight = v_weight*wid_weight\n",
    "\n",
    "\n",
    "vg = np.linspace(900,1100,200)\n",
    "wg = np.linspace(25,40,200)\n",
    "vg, wg = np.meshgrid(vg, wg)\n",
    "\n",
    "data = np.array([v_z.ravel(), wid_z.ravel()]).T\n",
    "\n",
    "# Weighted Gaussian KDE\n",
    "kde = KernelDensity(kernel='gaussian', bandwidth=0.25).fit(data, sample_weight=weights.ravel())\n",
    "\n",
    "samp = np.array([vg.ravel(), wid_z.ravel()]).T\n",
    "scores = kde.score_samples(\n",
    "\n",
    "fig, ax = plt.subplots()\n",
    "lgw = np.log(weight)\n",
    "sz = (lgw - lgw.min())/(lgw.max() - lgw.min())\n",
    "ax.scatter(v, wid, marker='o', color='k', s=20*sz)\n",
    "ax.vlines(v_true,20,40,linestyles=['--'])\n",
    "ax.hlines(wid_true,900,1200,linestyles=['--'])\n",
    "ax.set_xlim(950,1050)\n",
    "ax.set_ylim(25,40)\n",
    "\n"
   ]
  },
  {
   "cell_type": "code",
   "execution_count": null,
   "id": "eba807a5-1266-4496-aadb-517a1b4e8fcb",
   "metadata": {},
   "outputs": [],
   "source": [
    "# Remove any particles with invalid weights\n",
    "id_good = np.isfinite(weights)\n",
    "weights = weights[id_good]\n",
    "v = v[id_good]\n",
    "wid = wid[id_good]\n",
    "\n",
    "# Convert speeds to z-scores\n",
    "v_z, v_avg, v_std = zscore(v)\n",
    "wid_z, wid_avg, wid_std = zscore(wid)\n",
    "\n",
    "# Prepare data for KDE\n",
    "data = np.array([v_z.ravel(), wid_z.ravel()]).T\n",
    "\n",
    "# Weighted Gaussian KDE\n",
    "kde = KernelDensity(kernel='gaussian', bandwidth=0.25).fit(data, sample_weight=weights.ravel())\n",
    "\n",
    "# Resample the particles, and convert back to parameter space from zscore\n",
    "n_members = parameter_array['n_members']\n",
    "resample = kde.sample(n_members)\n",
    "v_z_resamp =  resample[:, 0]\n",
    "wid_z_resamp =  resample[:, 1]\n",
    "\n",
    "v_resamp = anti_zscore(v_z_resamp, v_avg, v_std)\n",
    "wid_resamp = anti_zscore(wid_z_resamp, wid_avg, wid_std)\n"
   ]
  },
  {
   "cell_type": "code",
   "execution_count": null,
   "id": "6e21edb3-4f29-4c8d-bf3a-243596d2907a",
   "metadata": {},
   "outputs": [],
   "source": [
    "start_time = Time('2008-06-30T00:00:00')\n",
    "model = sir.setup_huxt(start_time, uniform_wind=True)\n",
    "# Generate a \"truth\" CME\n",
    "base_cme = sir.get_base_cme()\n",
    "model.solve([base_cme])\n",
    "HA.animate(model, 'irap_example')"
   ]
  },
  {
   "cell_type": "code",
   "execution_count": null,
   "id": "0f5861d8-d366-4356-9576-408ccb315aa3",
   "metadata": {},
   "outputs": [],
   "source": [
    "# Test the SIR scheme\n",
    "np.random.seed(20100114)\n",
    "\n",
    "start_time = Time('2008-06-30T00:00:00')\n",
    "\n",
    "for i in range(50):\n",
    "    \n",
    "    model = sir.setup_huxt(start_time, uniform_wind=True)\n",
    "\n",
    "    # Generate a \"truth\" CME\n",
    "    base_cme = sir.get_base_cme()\n",
    "    cme_truth = sir.perturb_cme(base_cme)\n",
    "\n",
    "    # Get HUXt solution of this truth CME, and observations from L5\n",
    "    model.solve([cme_truth])\n",
    "    cme_truth = model.cmes[0]\n",
    "    hit, t_arrive, t_transit, hit_lon, hit_id = cme_truth.compute_arrival_at_body('EARTH')\n",
    "    \n",
    "    observer_lon = -60*u.deg\n",
    "    L5Obs = sir.Observer(model, cme_truth, observer_lon, el_min=4.0, el_max=30.0)\n",
    "\n",
    "    model_flank = L5Obs.model_flank\n",
    "    observed_cme_flank = L5Obs.compute_synthetic_obs(el_spread=0.5, cadence=3, el_min=4.0, el_max=30.0)\n",
    "    \n",
    "    observations = {'t_arrive':t_arrive, 't_transit':t_transit, 'observer_lon':observer_lon,\n",
    "                    'observed_cme_flank':observed_cme_flank, 'cme_params':cme_truth.parameter_array()}\n",
    "    \n",
    "    tag = \"uniform_weak_run_{:03d}\".format(i)\n",
    "    sir.SIR(model, base_cme, observations, tag)"
   ]
  },
  {
   "cell_type": "code",
   "execution_count": null,
   "id": "73140b2a-2382-4c6e-93da-611610f8c758",
   "metadata": {},
   "outputs": [],
   "source": [
    "weak_files = glob.glob(\"C:\\\\Users\\\\yq904481\\\\research\\\\repos\\\\SIR_HUXt\\\\data\\\\out_data\\\\SIR_HUXt_uniform_weak_run*.hdf5\")\n",
    "standard_files = glob.glob(\"C:\\\\Users\\\\yq904481\\\\research\\\\repos\\\\SIR_HUXt\\\\data\\\\out_data\\\\SIR_HUXt_uniform_run*.hdf5\")\n",
    "strong_files = glob.glob(\"C:\\\\Users\\\\yq904481\\\\research\\\\repos\\\\SIR_HUXt\\\\data\\\\out_data\\\\SIR_HUXt_uniform_strong_run*.hdf5\")\n",
    "\n",
    "for files in [weak_files, standard_files, strong_files]:\n",
    "    \n",
    "    ess_all = []\n",
    "    rank_hist_data = []\n",
    "    for f in files:\n",
    "\n",
    "        out_file = h5py.File(f, 'r')\n",
    "\n",
    "        pdf_max = []\n",
    "        ess = []\n",
    "        for i in range(8):\n",
    "\n",
    "            key = \"analysis_{:02d}\".format(i)\n",
    "            v = out_file[key]['speeds'][:]\n",
    "\n",
    "            kde = KernelDensity(kernel='gaussian', bandwidth=25).fit(v.reshape(-1,1))\n",
    "            v_grid = np.arange(800,1200,1)\n",
    "            log_pdf = kde.score_samples(v_grid.reshape(-1,1))\n",
    "            pdf = np.exp(log_pdf)\n",
    "            pdf_max.append(pdf.max())\n",
    "\n",
    "            w = out_file[key]['weights'][:]\n",
    "            ess.append(1 / np.sum(w**2))\n",
    "\n",
    "            if i==7:\n",
    "                cme_truth_params = out_file['cme_params'][:]\n",
    "                v_truth = cme_truth_params[4]\n",
    "                v_all = np.append(v,v_truth)\n",
    "                v_ranks = st.rankdata(v_all)\n",
    "                rank_hist_data.append(v_ranks[-1])\n",
    "\n",
    "\n",
    "        cme_truth_params = out_file['cme_params'][:]\n",
    "        v_truth = cme_truth_params[4]\n",
    "        \n",
    "        cme_truth_params = out_file['cme_params'][:]\n",
    "        v_truth = cme_truth_params[4]\n",
    "        v_all = np.append(v,v_truth)\n",
    "        v_ranks = st.rankdata(v_all)\n",
    "        rank_hist_data.append(v_ranks[-1])\n",
    "        ess_all.append(ess[-1])\n",
    "\n",
    "        out_file.close()\n",
    "        \n",
    "    fig, ax = plt.subplots()\n",
    "    ax.hist(rank_hist_data)\n"
   ]
  }
 ],
 "metadata": {
  "kernelspec": {
   "display_name": "Python 3 (ipykernel)",
   "language": "python",
   "name": "python3"
  },
  "language_info": {
   "codemirror_mode": {
    "name": "ipython",
    "version": 3
   },
   "file_extension": ".py",
   "mimetype": "text/x-python",
   "name": "python",
   "nbconvert_exporter": "python",
   "pygments_lexer": "ipython3",
   "version": "3.7.12"
  }
 },
 "nbformat": 4,
 "nbformat_minor": 5
}
