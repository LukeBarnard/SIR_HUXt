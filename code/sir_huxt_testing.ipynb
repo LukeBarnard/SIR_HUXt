{
 "cells": [
  {
   "cell_type": "code",
   "execution_count": 1,
   "id": "cf6b0f40-1e66-4a87-a6b6-7c9f8285d750",
   "metadata": {},
   "outputs": [],
   "source": [
    "import huxt as H\n",
    "import huxt_analysis as HA\n",
    "import SIR_HUXt as sir\n",
    "\n",
    "import astropy.units as u\n",
    "import glob\n",
    "import h5py\n",
    "import matplotlib.pyplot as plt\n",
    "import matplotlib as mpl\n",
    "import numpy as np\n",
    "import scipy.stats as st\n",
    "\n",
    "from sklearn.neighbors import KernelDensity\n",
    "from astropy.time import Time"
   ]
  },
  {
   "cell_type": "code",
   "execution_count": 2,
   "id": "0f5861d8-d366-4356-9576-408ccb315aa3",
   "metadata": {},
   "outputs": [
    {
     "name": "stdout",
     "output_type": "stream",
     "text": [
      "Files already exist for CR2071\n",
      "Files already exist for CR2071\n",
      "Files already exist for CR2071\n",
      "Files already exist for CR2071\n",
      "Files already exist for CR2071\n",
      "Files already exist for CR2071\n",
      "Files already exist for CR2071\n",
      "Files already exist for CR2071\n",
      "Files already exist for CR2071\n",
      "Files already exist for CR2071\n",
      "Files already exist for CR2071\n",
      "Files already exist for CR2071\n",
      "Files already exist for CR2071\n",
      "Files already exist for CR2071\n",
      "Files already exist for CR2071\n",
      "Files already exist for CR2071\n",
      "Files already exist for CR2071\n",
      "Files already exist for CR2071\n",
      "Files already exist for CR2071\n",
      "Files already exist for CR2071\n",
      "Files already exist for CR2071\n",
      "Files already exist for CR2071\n",
      "Files already exist for CR2071\n",
      "Files already exist for CR2071\n",
      "Files already exist for CR2071\n",
      "Files already exist for CR2071\n",
      "Files already exist for CR2071\n",
      "Files already exist for CR2071\n",
      "Files already exist for CR2071\n",
      "Files already exist for CR2071\n",
      "Files already exist for CR2071\n",
      "Files already exist for CR2071\n",
      "Files already exist for CR2071\n",
      "Files already exist for CR2071\n",
      "Files already exist for CR2071\n",
      "Files already exist for CR2071\n",
      "Files already exist for CR2071\n",
      "Files already exist for CR2071\n",
      "Files already exist for CR2071\n",
      "Files already exist for CR2071\n",
      "Files already exist for CR2071\n",
      "Files already exist for CR2071\n",
      "Files already exist for CR2071\n",
      "Files already exist for CR2071\n",
      "Files already exist for CR2071\n",
      "Files already exist for CR2071\n",
      "Files already exist for CR2071\n",
      "Files already exist for CR2071\n",
      "Files already exist for CR2071\n",
      "Files already exist for CR2071\n"
     ]
    }
   ],
   "source": [
    "# Test the SIR scheme\n",
    "np.random.seed(20100114)\n",
    "\n",
    "start_time = Time('2008-06-30T00:00:00')\n",
    "\n",
    "for i in range(50):\n",
    "    \n",
    "    model = sir.setup_huxt(start_time, uniform_wind=True)\n",
    "\n",
    "    # Generate a \"truth\" CME\n",
    "    base_cme = sir.get_base_cme()\n",
    "    cme_truth = sir.perturb_cme(base_cme)\n",
    "\n",
    "    # Get HUXt solution of this truth CME, and observations from L5\n",
    "    model.solve([cme_truth])\n",
    "    cme_truth = model.cmes[0]\n",
    "    hit, t_arrive, t_transit, hit_lon, hit_id = cme_truth.compute_arrival_at_body('EARTH')\n",
    "    \n",
    "    observer_lon = -60*u.deg\n",
    "    L5Obs = sir.Observer(model, cme_truth, observer_lon, el_min=4.0, el_max=30.0)\n",
    "\n",
    "    model_flank = L5Obs.model_flank\n",
    "    observed_cme_flank = L5Obs.compute_synthetic_obs(el_spread=0.5, cadence=3, el_min=4.0, el_max=30.0)\n",
    "    \n",
    "    observations = {'t_arrive':t_arrive, 't_transit':t_transit, 'observer_lon':observer_lon,\n",
    "                    'observed_cme_flank':observed_cme_flank, 'cme_params':cme_truth.parameter_array()}\n",
    "    \n",
    "    tag = \"uniform_weak_run_{:03d}\".format(i)\n",
    "    sir.SIR(model, base_cme, observations, tag)"
   ]
  },
  {
   "cell_type": "code",
   "execution_count": 8,
   "id": "73140b2a-2382-4c6e-93da-611610f8c758",
   "metadata": {},
   "outputs": [
    {
     "data": {
      "image/png": "[encoded data removed]",
      "text/plain": [
       "<Figure size 432x288 with 1 Axes>"
      ]
     },
     "metadata": {
      "needs_background": "light"
     },
     "output_type": "display_data"
    },
    {
     "data": {
      "image/png": "[encoded data removed]",
      "text/plain": [
       "<Figure size 432x288 with 1 Axes>"
      ]
     },
     "metadata": {
      "needs_background": "light"
     },
     "output_type": "display_data"
    }
   ],
   "source": [
    "weak_files = glob.glob(\"C:\\\\Users\\\\yq904481\\\\research\\\\repos\\\\SIR_HUXt\\\\data\\\\out_data\\\\SIR_HUXt_uniform_weak_run*.hdf5\")\n",
    "standard_files = glob.glob(\"C:\\\\Users\\\\yq904481\\\\research\\\\repos\\\\SIR_HUXt\\\\data\\\\out_data\\\\SIR_HUXt_uniform_run*.hdf5\")\n",
    "strong_files = glob.glob(\"C:\\\\Users\\\\yq904481\\\\research\\\\repos\\\\SIR_HUXt\\\\data\\\\out_data\\\\SIR_HUXt_uniform_strong_run*.hdf5\")\n",
    "\n",
    "for files in [weak_files, standard_files, strong_files]:\n",
    "    \n",
    "    ess_all = []\n",
    "    rank_hist_data = []\n",
    "    for f in files:\n",
    "\n",
    "        out_file = h5py.File(f, 'r')\n",
    "\n",
    "        pdf_max = []\n",
    "        ess = []\n",
    "        for i in range(8):\n",
    "\n",
    "            key = \"analysis_{:02d}\".format(i)\n",
    "            v = out_file[key]['speeds'][:]\n",
    "\n",
    "            kde = KernelDensity(kernel='gaussian', bandwidth=25).fit(v.reshape(-1,1))\n",
    "            v_grid = np.arange(800,1200,1)\n",
    "            log_pdf = kde.score_samples(v_grid.reshape(-1,1))\n",
    "            pdf = np.exp(log_pdf)\n",
    "            pdf_max.append(pdf.max())\n",
    "\n",
    "            w = out_file[key]['weights'][:]\n",
    "            ess.append(1 / np.sum(w**2))\n",
    "\n",
    "            if i==7:\n",
    "                cme_truth_params = out_file['cme_params'][:]\n",
    "                v_truth = cme_truth_params[4]\n",
    "                v_all = np.append(v,v_truth)\n",
    "                v_ranks = st.rankdata(v_all)\n",
    "                rank_hist_data.append(v_ranks[-1])\n",
    "\n",
    "\n",
    "        cme_truth_params = out_file['cme_params'][:]\n",
    "        v_truth = cme_truth_params[4]\n",
    "        \n",
    "        cme_truth_params = out_file['cme_params'][:]\n",
    "        v_truth = cme_truth_params[4]\n",
    "        v_all = np.append(v,v_truth)\n",
    "        v_ranks = st.rankdata(v_all)\n",
    "        rank_hist_data.append(v_ranks[-1])\n",
    "        ess_all.append(ess[-1])\n",
    "\n",
    "        out_file.close()\n",
    "        \n",
    "    fig, ax = plt.subplots()\n",
    "    ax.hist(rank_hist_data)\n"
   ]
  }
 ],
 "metadata": {
  "kernelspec": {
   "display_name": "Python 3 (ipykernel)",
   "language": "python",
   "name": "python3"
  },
  "language_info": {
   "codemirror_mode": {
    "name": "ipython",
    "version": 3
   },
   "file_extension": ".py",
   "mimetype": "text/x-python",
   "name": "python",
   "nbconvert_exporter": "python",
   "pygments_lexer": "ipython3",
   "version": "3.7.12"
  }
 },
 "nbformat": 4,
 "nbformat_minor": 5
}
