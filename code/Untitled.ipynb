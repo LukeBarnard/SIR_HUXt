{
 "cells": [
  {
   "cell_type": "code",
   "execution_count": 1,
   "id": "cf6b0f40-1e66-4a87-a6b6-7c9f8285d750",
   "metadata": {},
   "outputs": [],
   "source": [
    "import huxt as H\n",
    "import SIR_HUXt as sd"
   ]
  },
  {
   "cell_type": "code",
   "execution_count": 4,
   "id": "88def312-850a-4f1d-826f-840186d499d8",
   "metadata": {},
   "outputs": [],
   "source": [
    "import astropy.units as u"
   ]
  },
  {
   "cell_type": "code",
   "execution_count": 5,
   "id": "0027dd9a-a139-482a-901a-06048feba383",
   "metadata": {},
   "outputs": [
    {
     "data": {
      "text/plain": [
       "149597870.7"
      ]
     },
     "execution_count": 5,
     "metadata": {},
     "output_type": "execute_result"
    }
   ],
   "source": [
    "1.0*u.AU.to(u.km)"
   ]
  }
 ],
 "metadata": {
  "kernelspec": {
   "display_name": "Python 3 (ipykernel)",
   "language": "python",
   "name": "python3"
  },
  "language_info": {
   "codemirror_mode": {
    "name": "ipython",
    "version": 3
   },
   "file_extension": ".py",
   "mimetype": "text/x-python",
   "name": "python",
   "nbconvert_exporter": "python",
   "pygments_lexer": "ipython3",
   "version": "3.7.12"
  }
 },
 "nbformat": 4,
 "nbformat_minor": 5
}
